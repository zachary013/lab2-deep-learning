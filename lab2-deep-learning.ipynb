{
  "nbformat": 4,
  "nbformat_minor": 0,
  "metadata": {
    "colab": {
      "provenance": [],
      "authorship_tag": "ABX9TyMVOYz6IvkcFtclrdqaza7j",
      "include_colab_link": true
    },
    "kernelspec": {
      "name": "python3",
      "display_name": "Python 3"
    },
    "language_info": {
      "name": "python"
    }
  },
  "cells": [
    {
      "cell_type": "markdown",
      "metadata": {
        "id": "view-in-github",
        "colab_type": "text"
      },
      "source": [
        "<a href=\"https://colab.research.google.com/github/zachary013/lab2-deep-learning/blob/main/lab2-deep-learning.ipynb\" target=\"_parent\"><img src=\"https://colab.research.google.com/assets/colab-badge.svg\" alt=\"Open In Colab\"/></a>"
      ]
    },
    {
      "cell_type": "code",
      "execution_count": null,
      "metadata": {
        "id": "rKtxgJcFoARW"
      },
      "outputs": [],
      "source": [
        "import torch\n",
        "import torch.nn as nn\n",
        "import torch.optim as optim\n",
        "import torchvision\n",
        "import torchvision.transforms as transforms\n",
        "from torch.utils.data import DataLoader\n",
        "from sklearn.metrics import accuracy_score, f1_score\n",
        "import time\n",
        "\n",
        "device = torch.device(\"cuda\" if torch.cuda.is_available() else \"cpu\")\n",
        "transform = transforms.Compose([transforms.ToTensor(), transforms.Normalize((0.1307,), (0.3081,))])\n",
        "train_dataset = torchvision.datasets.MNIST(root='./data', train=True, download=True, transform=transform)\n",
        "test_dataset = torchvision.datasets.MNIST(root='./data', train=False, download=True, transform=transform)"
      ]
    },
    {
      "cell_type": "code",
      "source": [
        "class CNN(nn.Module):\n",
        "    def __init__(self):\n",
        "        super(CNN, self).__init__()\n",
        "        self.conv1 = nn.Conv2d(1, 16, 3, padding=1)\n",
        "        self.pool = nn.MaxPool2d(2, 2)\n",
        "        self.conv2 = nn.Conv2d(16, 32, 3, padding=1)\n",
        "        self.fc1 = nn.Linear(32 * 7 * 7, 128)\n",
        "        self.fc2 = nn.Linear(128, 10)\n",
        "        self.relu = nn.ReLU()\n",
        "\n",
        "    def forward(self, x):\n",
        "        x = self.pool(self.relu(self.conv1(x)))\n",
        "        x = self.pool(self.relu(self.conv2(x)))\n",
        "        x = x.view(-1, 32 * 7 * 7)\n",
        "        x = self.relu(self.fc1(x))\n",
        "        x = self.fc2(x)\n",
        "        return x\n",
        "\n",
        "train_loader = DataLoader(train_dataset, batch_size=32, shuffle=True)\n",
        "test_loader = DataLoader(test_dataset, batch_size=32, shuffle=False)\n",
        "model_cnn = CNN().to(device)\n",
        "criterion = nn.CrossEntropyLoss()\n",
        "optimizer = optim.Adam(model_cnn.parameters(), lr=0.001)\n",
        "start = time.time()\n",
        "for epoch in range(3):\n",
        "    model_cnn.train()\n",
        "    for images, labels in train_loader:\n",
        "        images, labels = images.to(device), labels.to(device)\n",
        "        optimizer.zero_grad()\n",
        "        outputs = model_cnn(images)\n",
        "        loss = criterion(outputs, labels)\n",
        "        loss.backward()\n",
        "        optimizer.step()\n",
        "cnn_time = time.time() - start\n",
        "model_cnn.eval()\n",
        "cnn_preds, cnn_true, cnn_loss = [], [], 0\n",
        "with torch.no_grad():\n",
        "    for images, labels in test_loader:\n",
        "        images, labels = images.to(device), labels.to(device)\n",
        "        outputs = model_cnn(images)\n",
        "        cnn_loss += criterion(outputs, labels).item()\n",
        "        _, preds = torch.max(outputs, 1)\n",
        "        cnn_preds.extend(preds.cpu().numpy())\n",
        "        cnn_true.extend(labels.cpu().numpy())\n",
        "cnn_loss /= len(test_loader)\n",
        "cnn_acc = accuracy_score(cnn_true, cnn_preds)\n",
        "cnn_f1 = f1_score(cnn_true, cnn_preds, average='macro')"
      ],
      "metadata": {
        "id": "s8STw5Eep0Xa"
      },
      "execution_count": null,
      "outputs": []
    },
    {
      "cell_type": "code",
      "source": [
        "from torchvision.models.detection import fasterrcnn_resnet50_fpn\n",
        "from torchvision.models.detection.faster_rcnn import FastRCNNPredictor\n",
        "\n",
        "train_loader_frcnn = DataLoader(train_dataset, batch_size=2, shuffle=True)\n",
        "test_loader_frcnn = DataLoader(test_dataset, batch_size=2, shuffle=False)\n",
        "model_frcnn = fasterrcnn_resnet50_fpn(weights=\"DEFAULT\")\n",
        "in_features = model_frcnn.roi_heads.box_predictor.cls_score.in_features\n",
        "model_frcnn.roi_heads.box_predictor = FastRCNNPredictor(in_features, 10)\n",
        "model_frcnn = model_frcnn.to(device)\n",
        "optimizer = optim.Adam(model_frcnn.parameters(), lr=0.001)\n",
        "start = time.time()\n",
        "for epoch in range(2):\n",
        "    model_frcnn.train()\n",
        "    for images, labels in train_loader_frcnn:\n",
        "        images = [img.to(device) for img in images]\n",
        "        targets = [{'boxes': torch.tensor([[0, 0, 28, 28]], dtype=torch.float32).to(device),\n",
        "                    'labels': torch.tensor([label], dtype=torch.int64).to(device)} for label in labels]\n",
        "        optimizer.zero_grad()\n",
        "        loss_dict = model_frcnn(images, targets)\n",
        "        losses = sum(loss for loss in loss_dict.values())\n",
        "        losses.backward()\n",
        "        optimizer.step()\n",
        "frcnn_time = time.time() - start\n",
        "model_frcnn.eval()\n",
        "frcnn_preds, frcnn_true, frcnn_loss = [], [], 0\n",
        "with torch.no_grad():\n",
        "    for images, labels in test_loader_frcnn:\n",
        "        images = [img.to(device) for img in images]\n",
        "        targets = [{'boxes': torch.tensor([[0, 0, 28, 28]], dtype=torch.float32).to(device),\n",
        "                    'labels': torch.tensor([label], dtype=torch.int64).to(device)} for label in labels]\n",
        "        model_frcnn.train()\n",
        "        loss_dict = model_frcnn(images, targets)\n",
        "        frcnn_loss += sum(loss for loss in loss_dict.values()).item()\n",
        "        model_frcnn.eval()\n",
        "        outputs = model_frcnn(images)\n",
        "        for i, out in enumerate(outputs):\n",
        "            pred = out['labels'][0].cpu().item()\n",
        "            frcnn_preds.append(pred)\n",
        "            frcnn_true.append(labels[i].item())\n",
        "frcnn_loss /= len(test_loader_frcnn)\n",
        "frcnn_acc = accuracy_score(frcnn_true, frcnn_preds)\n",
        "frcnn_f1 = f1_score(frcnn_true, frcnn_preds, average='macro')"
      ],
      "metadata": {
        "colab": {
          "base_uri": "https://localhost:8080/"
        },
        "id": "XGT3i1VTqsu8",
        "outputId": "113b7a01-c1c2-4ccb-8aaa-c6654b110f4f"
      },
      "execution_count": null,
      "outputs": [
        {
          "metadata": {
            "tags": null
          },
          "name": "stderr",
          "output_type": "stream",
          "text": [
            "Downloading: \"https://download.pytorch.org/models/fasterrcnn_resnet50_fpn_coco-258fb6c6.pth\" to /root/.cache/torch/hub/checkpoints/fasterrcnn_resnet50_fpn_coco-258fb6c6.pth\n",
            "100%|██████████| 160M/160M [00:03<00:00, 53.3MB/s]\n"
          ]
        }
      ]
    },
    {
      "cell_type": "code",
      "source": [
        "print(f\"CNN: Acc={cnn_acc:.4f}, F1={cnn_f1:.4f}, Loss={cnn_loss:.4f}, Time={cnn_time:.2f}s\")\n",
        "print(f\"Faster R-CNN: Acc={frcnn_acc:.4f}, F1={frcnn_f1:.4f}, Loss={frcnn_loss:.4f}, Time={frcnn_time:.2f}s\")"
      ],
      "metadata": {
        "id": "tvEacmojqyo7"
      },
      "execution_count": null,
      "outputs": []
    },
    {
      "cell_type": "code",
      "source": [
        "from torchvision.models import vgg16, alexnet\n",
        "\n",
        "transform_resized = transforms.Compose([transforms.Resize((224, 224)), transforms.ToTensor(), transforms.Normalize((0.1307,), (0.3081,))])\n",
        "train_dataset_resized = torchvision.datasets.MNIST(root='./data', train=True, download=True, transform=transform_resized)\n",
        "test_dataset_resized = torchvision.datasets.MNIST(root='./data', train=False, download=True, transform=transform_resized)\n",
        "train_loader_resized = DataLoader(train_dataset_resized, batch_size=16, shuffle=True)\n",
        "test_loader_resized = DataLoader(test_dataset_resized, batch_size=16, shuffle=False)\n",
        "\n",
        "model_vgg = vgg16(weights=\"DEFAULT\")\n",
        "model_vgg.features[0] = nn.Conv2d(1, 64, 3, padding=1)\n",
        "model_vgg.classifier[6] = nn.Linear(4096, 10)\n",
        "model_vgg = model_vgg.to(device)\n",
        "optimizer_vgg = optim.Adam(model_vgg.parameters(), lr=0.001)\n",
        "start = time.time()\n",
        "for epoch in range(2):\n",
        "    model_vgg.train()\n",
        "    for images, labels in train_loader_resized:\n",
        "        images, labels = images.to(device), labels.to(device)\n",
        "        optimizer_vgg.zero_grad()\n",
        "        outputs = model_vgg(images)\n",
        "        loss = criterion(outputs, labels)\n",
        "        loss.backward()\n",
        "        optimizer_vgg.step()\n",
        "vgg_time = time.time() - start\n",
        "model_vgg.eval()\n",
        "vgg_preds, vgg_true, vgg_loss = [], [], 0\n",
        "with torch.no_grad():\n",
        "    for images, labels in test_loader_resized:\n",
        "        images, labels = images.to(device), labels.to(device)\n",
        "        outputs = model_vgg(images)\n",
        "        vgg_loss += criterion(outputs, labels).item()\n",
        "        _, preds = torch.max(outputs, 1)\n",
        "        vgg_preds.extend(preds.cpu().numpy())\n",
        "        vgg_true.extend(labels.cpu().numpy())\n",
        "vgg_loss /= len(test_loader_resized)\n",
        "vgg_acc = accuracy_score(vgg_true, vgg_preds)\n",
        "vgg_f1 = f1_score(vgg_true, vgg_preds, average='macro')\n",
        "\n",
        "model_alex = alexnet(weights=\"DEFAULT\")\n",
        "model_alex.features[0] = nn.Conv2d(1, 64, 11, stride=4, padding=2)\n",
        "model_alex.classifier[6] = nn.Linear(4096, 10)\n",
        "model_alex = model_alex.to(device)\n",
        "optimizer_alex = optim.Adam(model_alex.parameters(), lr=0.001)\n",
        "start = time.time()\n",
        "for epoch in range(2):\n",
        "    model_alex.train()\n",
        "    for images, labels in train_loader_resized:\n",
        "        images, labels = images.to(device), labels.to(device)\n",
        "        optimizer_alex.zero_grad()\n",
        "        outputs = model_alex(images)\n",
        "        loss = criterion(outputs, labels)\n",
        "        loss.backward()\n",
        "        optimizer_alex.step()\n",
        "alex_time = time.time() - start\n",
        "model_alex.eval()\n",
        "alex_preds, alex_true, alex_loss = [], [], 0\n",
        "with torch.no_grad():\n",
        "    for images, labels in test_loader_resized:\n",
        "        images, labels = images.to(device), labels.to(device)\n",
        "        outputs = model_alex(images)\n",
        "        alex_loss += criterion(outputs, labels).item()\n",
        "        _, preds = torch.max(outputs, 1)\n",
        "        alex_preds.extend(preds.cpu().numpy())\n",
        "        alex_true.extend(labels.cpu().numpy())\n",
        "alex_loss /= len(test_loader_resized)\n",
        "alex_acc = accuracy_score(alex_true, alex_preds)\n",
        "alex_f1 = f1_score(alex_true, alex_preds, average='macro')\n",
        "\n",
        "print(f\"VGG16: Acc={vgg_acc:.4f}, F1={vgg_f1:.4f}, Loss={vgg_loss:.4f}, Time={vgg_time:.2f}s\")\n",
        "print(f\"AlexNet: Acc={alex_acc:.4f}, F1={alex_f1:.4f}, Loss={alex_loss:.4f}, Time={alex_time:.2f}s\")\n",
        "print(\"Conclusion: VGG16 and AlexNet beat CNN with pretrained weights; Faster R-CNN is slower, less suited for MNIST.\")"
      ],
      "metadata": {
        "id": "jIVVxlBMq3PG"
      },
      "execution_count": null,
      "outputs": []
    },
    {
      "cell_type": "code",
      "source": [
        "class ViT(nn.Module):\n",
        "    def __init__(self, img_size=28, patch_size=7, num_classes=10, dim=64, depth=6, heads=4, mlp_dim=128):\n",
        "        super().__init__()\n",
        "        num_patches = (img_size // patch_size) ** 2\n",
        "        patch_dim = 1 * patch_size * patch_size\n",
        "        self.patch_embed = nn.Linear(patch_dim, dim)\n",
        "        self.pos_embed = nn.Parameter(torch.randn(1, num_patches + 1, dim))\n",
        "        self.cls_token = nn.Parameter(torch.randn(1, 1, dim))\n",
        "        self.transformer = nn.TransformerEncoder(nn.TransformerEncoderLayer(d_model=dim, nhead=heads, dim_feedforward=mlp_dim), num_layers=depth)\n",
        "        self.mlp_head = nn.Sequential(nn.LayerNorm(dim), nn.Linear(dim, num_classes))\n",
        "\n",
        "    def forward(self, x):\n",
        "        b = x.shape[0]\n",
        "        x = x.view(b, -1, 28 * 28 // 16).transpose(1, 2)\n",
        "        x = self.patch_embed(x)\n",
        "        cls_tokens = self.cls_token.expand(b, -1, -1)\n",
        "        x = torch.cat((cls_tokens, x), dim=1)\n",
        "        x = x + self.pos_embed\n",
        "        x = self.transformer(x)\n",
        "        x = x[:, 0]\n",
        "        return self.mlp_head(x)\n",
        "\n",
        "model_vit = ViT().to(device)\n",
        "optimizer_vit = optim.Adam(model_vit.parameters(), lr=0.001)\n",
        "start = time.time()\n",
        "for epoch in range(3):\n",
        "    model_vit.train()\n",
        "    for images, labels in train_loader:\n",
        "        images, labels = images.to(device), labels.to(device)\n",
        "        optimizer_vit.zero_grad()\n",
        "        outputs = model_vit(images)\n",
        "        loss = criterion(outputs, labels)\n",
        "        loss.backward()\n",
        "        optimizer_vit.step()\n",
        "vit_time = time.time() - start\n",
        "model_vit.eval()\n",
        "vit_preds, vit_true, vit_loss = [], [], 0\n",
        "with torch.no_grad():\n",
        "    for images, labels in test_loader:\n",
        "        images, labels = images.to(device), labels.to(device)\n",
        "        outputs = model_vit(images)\n",
        "        vit_loss += criterion(outputs, labels).item()\n",
        "        _, preds = torch.max(outputs, 1)\n",
        "        vit_preds.extend(preds.cpu().numpy())\n",
        "        vit_true.extend(labels.cpu().numpy())\n",
        "vit_loss /= len(test_loader)\n",
        "vit_acc = accuracy_score(vit_true, vit_preds)\n",
        "vit_f1 = f1_score(vit_true, vit_preds, average='macro')"
      ],
      "metadata": {
        "id": "12da14-9tBvJ"
      },
      "execution_count": null,
      "outputs": []
    },
    {
      "cell_type": "code",
      "source": [
        "print(f\"ViT: Acc={vit_acc:.4f}, F1={vit_f1:.4f}, Loss={vit_loss:.4f}, Time={vit_time:.2f}s\")\n",
        "print(\"ViT is slower than CNN but close in accuracy; VGG16/AlexNet outperform due to transfer learning.\")"
      ],
      "metadata": {
        "id": "PSXhKH6QtIYU"
      },
      "execution_count": null,
      "outputs": []
    }
  ]
}